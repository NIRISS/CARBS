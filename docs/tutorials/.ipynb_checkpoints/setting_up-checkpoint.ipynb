{
 "cells": [
  {
   "cell_type": "markdown",
   "metadata": {},
   "source": [
    "# Installation\n",
    "\n",
    "Clone and install the repository using "
   ]
  },
  {
   "cell_type": "code",
   "execution_count": null,
   "metadata": {},
   "outputs": [],
   "source": [
    "git clone https://github.com/NIRISS/CARBS.git\n",
    "cd CARBS\n",
    "python setup.py install"
   ]
  },
  {
   "cell_type": "markdown",
   "metadata": {},
   "source": [
    "# Dependencies\n",
    "\n",
    "- [dense_basis](https://dense-basis.readthedocs.io/en/latest/)\n",
    "- [grizli](https://grizli.readthedocs.io/en/master/)\n",
    "- [emcee](https://emcee.readthedocs.io/en/stable/)\n",
    "\n",
    "## dense_basis dependencies:\n",
    "\n",
    "\n",
    "- [FSPS](https://github.com/cconroy20/fsps) and [python-fsps](http://dfm.io/python-fsps/current/installation/) - needs .bashrc environmental variable. \n",
    "- astropy, scikit-learn and george. See the full list [here](https://dense-basis.readthedocs.io/en/latest/usage/dependencies.html).\n",
    "\n",
    "## grizli dependencies:\n",
    "\n",
    "- [installation instructions](https://grizli.readthedocs.io/en/master/grizli/install.html) / astroconda\n",
    "- psycopg2\n",
    "- astropy>=3.0\n",
    "- scikit-image>=0.13.0\n",
    "- scikit-learn>=0.19.0\n",
    "- yaml>=0.1.7\n",
    "- pyyaml>=3.12\n",
    "- nose>=1.3.7\n",
    "- cython>=0.28.2\n",
    "- astroquery>=0.3.7\n",
    "- photutils>=0.4\n",
    "- pyregion>=2.0\n",
    "- crds>=7.1.5\n",
    "- drizzlepac>=2.2.2\n",
    "- hstcal>=2.0.0\n",
    "- pysynphot>=0.9.12\n",
    "- stwcs>=1.4.0\n",
    "- wfc3tools>=1.3.4\n",
    "- shapely>=1.6.4\n",
    "- descartes>=1.0.2\n",
    "- boto3>=1.7.51\n",
    "- peakutils>=1.0.3\n",
    "- extinction>=0.3.0\n",
    "- specutils==0.2.2\n",
    "- git+https://github.com/gbrammer/sep.git\n",
    "- git+https://github.com/gbrammer/pyia.git\n",
    "- git+https://github.com/gbrammer/reprocess_wfc3.git\n",
    "- git+https://github.com/gbrammer/eazy-py.git\n",
    "- git+https://github.com/gbrammer/tristars.git\n",
    "- git+https://github.com/gbrammer/mastquery.git\n",
    "\n",
    "\n",
    "Put these lines in ~/.bashrc:"
   ]
  },
  {
   "cell_type": "code",
   "execution_count": null,
   "metadata": {},
   "outputs": [],
   "source": [
    "export SPS_HOME = \"${HOME}/fsps/src\" # or anywhere else\n",
    "export GRIZLI=\"${HOME}/grizli\" # or anywhere else\n",
    "export iref=\"${GRIZLI}/iref/\"  # for WFC3 calibration files\n",
    "export jref=\"${GRIZLI}/jref/\"  # for ACS calibration files\n",
    "\n",
    "# Make the directories, assuming they don't already exist\n",
    "mkdir $GRIZLI\n",
    "mkdir $GRIZLI/CONF      # needed for grism configuration files\n",
    "mkdir $GRIZLI/templates # for redshift fits\n",
    "\n",
    "mkdir $iref\n",
    "mkdir $jref"
   ]
  }
 ],
 "metadata": {
  "kernelspec": {
   "display_name": "Python 3",
   "language": "python",
   "name": "python3"
  },
  "language_info": {
   "codemirror_mode": {
    "name": "ipython",
    "version": 3
   },
   "file_extension": ".py",
   "mimetype": "text/x-python",
   "name": "python",
   "nbconvert_exporter": "python",
   "pygments_lexer": "ipython3",
   "version": "3.7.3"
  }
 },
 "nbformat": 4,
 "nbformat_minor": 2
}
